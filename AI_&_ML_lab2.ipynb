{
  "nbformat": 4,
  "nbformat_minor": 0,
  "metadata": {
    "colab": {
      "provenance": [],
      "authorship_tag": "ABX9TyP6NiUicKFkFo8shvzgRnVr",
      "include_colab_link": true
    },
    "kernelspec": {
      "name": "python3",
      "display_name": "Python 3"
    },
    "language_info": {
      "name": "python"
    }
  },
  "cells": [
    {
      "cell_type": "markdown",
      "metadata": {
        "id": "view-in-github",
        "colab_type": "text"
      },
      "source": [
        "<a href=\"https://colab.research.google.com/github/itsAdnan16/BloodLine/blob/main/AI_%26_ML_lab2.ipynb\" target=\"_parent\"><img src=\"https://colab.research.google.com/assets/colab-badge.svg\" alt=\"Open In Colab\"/></a>"
      ]
    },
    {
      "cell_type": "code",
      "source": [
        "import pandas as pd\n",
        "f = pd.read_csv('student-por.csv')\n",
        "\n",
        "XY = df.iloc[:, -2:]\n",
        "\n",
        "\n",
        "\n",
        "print(\"Statistical Summary of XY:\")\n",
        "print(XY.describe())\n",
        "\n",
        "\n",
        "X = XY.iloc[:, 0]\n",
        "Y = XY.iloc[:, 1]"
      ],
      "metadata": {
        "id": "Yjt2_fpWfwkp"
      },
      "execution_count": null,
      "outputs": []
    }
  ]
}